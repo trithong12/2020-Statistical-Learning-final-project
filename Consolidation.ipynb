{
 "cells": [
  {
   "cell_type": "markdown",
   "metadata": {},
   "source": [
    "# Group Final Project"
   ]
  },
  {
   "cell_type": "markdown",
   "metadata": {},
   "source": [
    "# **Introduction**"
   ]
  },
  {
   "cell_type": "markdown",
   "metadata": {},
   "source": [
    "# 1. Frame the problem and look at the big picture"
   ]
  },
  {
   "cell_type": "code",
   "execution_count": null,
   "metadata": {},
   "outputs": [],
   "source": []
  },
  {
   "cell_type": "markdown",
   "metadata": {},
   "source": [
    "# 2. Get the data"
   ]
  },
  {
   "cell_type": "code",
   "execution_count": 1,
   "metadata": {},
   "outputs": [],
   "source": [
    "from IPython.display import display, Markdown\n",
    "import numpy as np\n",
    "import pandas as pd\n",
    "import matplotlib.pyplot as plt\n",
    "import seaborn as sns\n",
    "\n",
    "app_train_raw = pd.read_csv('./data/application_train.csv')"
   ]
  },
  {
   "cell_type": "markdown",
   "metadata": {},
   "source": [
    "# 3. Explore the data to gain insights"
   ]
  },
  {
   "cell_type": "code",
   "execution_count": null,
   "metadata": {},
   "outputs": [],
   "source": []
  },
  {
   "cell_type": "markdown",
   "metadata": {},
   "source": [
    "# 4. Prepare the data to better expose the underlying data patterns to Machine Learning algorithms"
   ]
  },
  {
   "cell_type": "markdown",
   "metadata": {},
   "source": [
    "## 4.1 Drop rows which contain NaN"
   ]
  },
  {
   "cell_type": "code",
   "execution_count": 2,
   "metadata": {},
   "outputs": [],
   "source": [
    "app_train_raw = app_train_raw.set_index('SK_ID_CURR')"
   ]
  },
  {
   "cell_type": "markdown",
   "metadata": {},
   "source": [
    "### 砍 columns"
   ]
  },
  {
   "cell_type": "code",
   "execution_count": 3,
   "metadata": {},
   "outputs": [
    {
     "data": {
      "text/markdown": [
       "**Drop Columns:**"
      ],
      "text/plain": [
       "<IPython.core.display.Markdown object>"
      ]
     },
     "metadata": {},
     "output_type": "display_data"
    },
    {
     "name": "stdout",
     "output_type": "stream",
     "text": [
      "COMMONAREA_MEDI,COMMONAREA_AVG,COMMONAREA_MODE,NONLIVINGAPARTMENTS_MODE,NONLIVINGAPARTMENTS_MEDI,NONLIVINGAPARTMENTS_AVG,FONDKAPREMONT_MODE,LIVINGAPARTMENTS_MEDI,LIVINGAPARTMENTS_MODE,LIVINGAPARTMENTS_AVG,FLOORSMIN_AVG,FLOORSMIN_MEDI,FLOORSMIN_MODE,YEARS_BUILD_MEDI,YEARS_BUILD_MODE,YEARS_BUILD_AVG,OWN_CAR_AGE,LANDAREA_AVG,LANDAREA_MEDI,LANDAREA_MODE,BASEMENTAREA_AVG,BASEMENTAREA_MODE,BASEMENTAREA_MEDI,EXT_SOURCE_1,NONLIVINGAREA_MEDI,NONLIVINGAREA_AVG,NONLIVINGAREA_MODE,ELEVATORS_AVG,ELEVATORS_MEDI,ELEVATORS_MODE,WALLSMATERIAL_MODE,APARTMENTS_MODE,APARTMENTS_MEDI,APARTMENTS_AVG,ENTRANCES_MEDI,ENTRANCES_MODE,ENTRANCES_AVG,LIVINGAREA_MEDI,LIVINGAREA_MODE,LIVINGAREA_AVG,HOUSETYPE_MODE,FLOORSMAX_AVG,FLOORSMAX_MEDI,FLOORSMAX_MODE,YEARS_BEGINEXPLUATATION_AVG,YEARS_BEGINEXPLUATATION_MEDI,YEARS_BEGINEXPLUATATION_MODE,TOTALAREA_MODE,EMERGENCYSTATE_MODE,"
     ]
    }
   ],
   "source": [
    "def drop_column_by_na(df, threshold=None):\n",
    "    if not threshold:\n",
    "         threshold = int(df.shape[0]/3)\n",
    "    na = df.isna().sum().sort_values(ascending = False)\n",
    "    display(Markdown('**Drop Columns:**'))\n",
    "    for name, val in na.items():\n",
    "        if val >= threshold:\n",
    "            print(name, end=',')\n",
    "            df.drop(columns=[name], inplace = True)\n",
    "\n",
    "drop_column_by_na(app_train_raw)"
   ]
  },
  {
   "cell_type": "markdown",
   "metadata": {},
   "source": [
    "### 刪除包含 NaN 的 rows"
   ]
  },
  {
   "cell_type": "code",
   "execution_count": 4,
   "metadata": {},
   "outputs": [
    {
     "data": {
      "text/markdown": [
       "**Shape of dataset after dropping rows that contain NaN: (167732, 72)**"
      ],
      "text/plain": [
       "<IPython.core.display.Markdown object>"
      ]
     },
     "metadata": {},
     "output_type": "display_data"
    }
   ],
   "source": [
    "app_train_dropped = app_train_raw.dropna()\n",
    "display(Markdown(f'**Shape of dataset after dropping rows that contain NaN: {app_train_dropped.shape}**'))"
   ]
  },
  {
   "cell_type": "markdown",
   "metadata": {},
   "source": [
    "### 刪除性別欄位 CODE_GENDER 值為 XNA 的 rows"
   ]
  },
  {
   "cell_type": "code",
   "execution_count": 5,
   "metadata": {},
   "outputs": [],
   "source": [
    "app_train_dropped = app_train_dropped[app_train_dropped['CODE_GENDER'] != 'XNA']"
   ]
  },
  {
   "cell_type": "markdown",
   "metadata": {},
   "source": [
    "### 分出特征集 X 和目標標籤 y"
   ]
  },
  {
   "cell_type": "code",
   "execution_count": 6,
   "metadata": {},
   "outputs": [],
   "source": [
    "app_train_dropped_y = app_train_dropped['TARGET']\n",
    "app_train_dropped_X = app_train_dropped.drop(columns=['TARGET'])"
   ]
  },
  {
   "cell_type": "markdown",
   "metadata": {},
   "source": [
    "### 將資料集切割成 training set 和 testing set"
   ]
  },
  {
   "cell_type": "code",
   "execution_count": 7,
   "metadata": {},
   "outputs": [
    {
     "data": {
      "text/markdown": [
       "**- X_train's shape: (117411, 71)**"
      ],
      "text/plain": [
       "<IPython.core.display.Markdown object>"
      ]
     },
     "metadata": {},
     "output_type": "display_data"
    },
    {
     "data": {
      "text/markdown": [
       "**- y_train's shape: (117411,)**"
      ],
      "text/plain": [
       "<IPython.core.display.Markdown object>"
      ]
     },
     "metadata": {},
     "output_type": "display_data"
    },
    {
     "data": {
      "text/markdown": [
       "**- X_test's shape: (50319, 71)**"
      ],
      "text/plain": [
       "<IPython.core.display.Markdown object>"
      ]
     },
     "metadata": {},
     "output_type": "display_data"
    },
    {
     "data": {
      "text/markdown": [
       "**- y_test's shape: (50319,)**"
      ],
      "text/plain": [
       "<IPython.core.display.Markdown object>"
      ]
     },
     "metadata": {},
     "output_type": "display_data"
    }
   ],
   "source": [
    "from sklearn.model_selection import train_test_split\n",
    "X_train, X_test, y_train, y_test = train_test_split(app_train_dropped_X, app_train_dropped_y, test_size=0.3, random_state=42)\n",
    "display(Markdown(f'**- X_train\\'s shape: {X_train.shape}**'))\n",
    "display(Markdown(f'**- y_train\\'s shape: {y_train.shape}**'))\n",
    "display(Markdown(f'**- X_test\\'s shape: {X_test.shape}**'))\n",
    "display(Markdown(f'**- y_test\\'s shape: {y_test.shape}**'))"
   ]
  },
  {
   "cell_type": "markdown",
   "metadata": {},
   "source": [
    "## Data Standardization (for numerical data) and One-hot encoding (for categorical data)"
   ]
  },
  {
   "cell_type": "code",
   "execution_count": 8,
   "metadata": {},
   "outputs": [
    {
     "data": {
      "text/plain": [
       "AMT_REQ_CREDIT_BUREAU_YEAR     0\n",
       "OCCUPATION_TYPE                0\n",
       "FLAG_MOBIL                     0\n",
       "FLAG_EMP_PHONE                 0\n",
       "FLAG_WORK_PHONE                0\n",
       "FLAG_CONT_MOBILE               0\n",
       "FLAG_PHONE                     0\n",
       "FLAG_EMAIL                     0\n",
       "CNT_FAM_MEMBERS                0\n",
       "DAYS_REGISTRATION              0\n",
       "REGION_RATING_CLIENT           0\n",
       "REGION_RATING_CLIENT_W_CITY    0\n",
       "WEEKDAY_APPR_PROCESS_START     0\n",
       "HOUR_APPR_PROCESS_START        0\n",
       "REG_REGION_NOT_LIVE_REGION     0\n",
       "REG_REGION_NOT_WORK_REGION     0\n",
       "DAYS_ID_PUBLISH                0\n",
       "DAYS_EMPLOYED                  0\n",
       "REG_CITY_NOT_LIVE_CITY         0\n",
       "AMT_ANNUITY                    0\n",
       "CODE_GENDER                    0\n",
       "FLAG_OWN_CAR                   0\n",
       "FLAG_OWN_REALTY                0\n",
       "CNT_CHILDREN                   0\n",
       "AMT_INCOME_TOTAL               0\n",
       "AMT_CREDIT                     0\n",
       "AMT_GOODS_PRICE                0\n",
       "DAYS_BIRTH                     0\n",
       "NAME_TYPE_SUITE                0\n",
       "NAME_INCOME_TYPE               0\n",
       "                              ..\n",
       "FLAG_DOCUMENT_15               0\n",
       "FLAG_DOCUMENT_16               0\n",
       "FLAG_DOCUMENT_17               0\n",
       "FLAG_DOCUMENT_19               0\n",
       "FLAG_DOCUMENT_10               0\n",
       "FLAG_DOCUMENT_20               0\n",
       "FLAG_DOCUMENT_21               0\n",
       "AMT_REQ_CREDIT_BUREAU_HOUR     0\n",
       "AMT_REQ_CREDIT_BUREAU_DAY      0\n",
       "AMT_REQ_CREDIT_BUREAU_WEEK     0\n",
       "AMT_REQ_CREDIT_BUREAU_MON      0\n",
       "FLAG_DOCUMENT_11               0\n",
       "FLAG_DOCUMENT_9                0\n",
       "LIVE_CITY_NOT_WORK_CITY        0\n",
       "DEF_60_CNT_SOCIAL_CIRCLE       0\n",
       "ORGANIZATION_TYPE              0\n",
       "EXT_SOURCE_2                   0\n",
       "EXT_SOURCE_3                   0\n",
       "OBS_30_CNT_SOCIAL_CIRCLE       0\n",
       "DEF_30_CNT_SOCIAL_CIRCLE       0\n",
       "OBS_60_CNT_SOCIAL_CIRCLE       0\n",
       "DAYS_LAST_PHONE_CHANGE         0\n",
       "FLAG_DOCUMENT_8                0\n",
       "FLAG_DOCUMENT_2                0\n",
       "FLAG_DOCUMENT_3                0\n",
       "FLAG_DOCUMENT_4                0\n",
       "FLAG_DOCUMENT_5                0\n",
       "FLAG_DOCUMENT_6                0\n",
       "FLAG_DOCUMENT_7                0\n",
       "NAME_CONTRACT_TYPE             0\n",
       "Length: 71, dtype: int64"
      ]
     },
     "execution_count": 8,
     "metadata": {},
     "output_type": "execute_result"
    }
   ],
   "source": [
    "X_test.isna().sum().sort_values(ascending=False)"
   ]
  },
  {
   "cell_type": "code",
   "execution_count": 9,
   "metadata": {},
   "outputs": [
    {
     "data": {
      "text/markdown": [
       "**Before One-hot encoding:**"
      ],
      "text/plain": [
       "<IPython.core.display.Markdown object>"
      ]
     },
     "metadata": {},
     "output_type": "display_data"
    },
    {
     "data": {
      "text/markdown": [
       "**- X_train categorical data's shape: (117411, 12)**"
      ],
      "text/plain": [
       "<IPython.core.display.Markdown object>"
      ]
     },
     "metadata": {},
     "output_type": "display_data"
    },
    {
     "data": {
      "text/markdown": [
       "**- X_test categorical data's shape: (50319, 12)**"
      ],
      "text/plain": [
       "<IPython.core.display.Markdown object>"
      ]
     },
     "metadata": {},
     "output_type": "display_data"
    },
    {
     "data": {
      "text/markdown": [
       "**After One-hot encoding:**"
      ],
      "text/plain": [
       "<IPython.core.display.Markdown object>"
      ]
     },
     "metadata": {},
     "output_type": "display_data"
    },
    {
     "data": {
      "text/markdown": [
       "**- X_train categorical data's shape: (117411, 119)**"
      ],
      "text/plain": [
       "<IPython.core.display.Markdown object>"
      ]
     },
     "metadata": {},
     "output_type": "display_data"
    },
    {
     "data": {
      "text/markdown": [
       "**- X_test categorical data's shape: (50319, 119)**"
      ],
      "text/plain": [
       "<IPython.core.display.Markdown object>"
      ]
     },
     "metadata": {},
     "output_type": "display_data"
    },
    {
     "data": {
      "text/markdown": [
       "**Before standardization:**"
      ],
      "text/plain": [
       "<IPython.core.display.Markdown object>"
      ]
     },
     "metadata": {},
     "output_type": "display_data"
    },
    {
     "data": {
      "text/markdown": [
       "**- X_train numerical data's head(3):**"
      ],
      "text/plain": [
       "<IPython.core.display.Markdown object>"
      ]
     },
     "metadata": {},
     "output_type": "display_data"
    },
    {
     "data": {
      "text/html": [
       "<div>\n",
       "<style scoped>\n",
       "    .dataframe tbody tr th:only-of-type {\n",
       "        vertical-align: middle;\n",
       "    }\n",
       "\n",
       "    .dataframe tbody tr th {\n",
       "        vertical-align: top;\n",
       "    }\n",
       "\n",
       "    .dataframe thead th {\n",
       "        text-align: right;\n",
       "    }\n",
       "</style>\n",
       "<table border=\"1\" class=\"dataframe\">\n",
       "  <thead>\n",
       "    <tr style=\"text-align: right;\">\n",
       "      <th></th>\n",
       "      <th>CNT_CHILDREN</th>\n",
       "      <th>AMT_INCOME_TOTAL</th>\n",
       "      <th>AMT_CREDIT</th>\n",
       "      <th>AMT_ANNUITY</th>\n",
       "      <th>AMT_GOODS_PRICE</th>\n",
       "      <th>REGION_POPULATION_RELATIVE</th>\n",
       "      <th>DAYS_BIRTH</th>\n",
       "      <th>DAYS_EMPLOYED</th>\n",
       "      <th>DAYS_REGISTRATION</th>\n",
       "      <th>DAYS_ID_PUBLISH</th>\n",
       "      <th>...</th>\n",
       "      <th>DEF_30_CNT_SOCIAL_CIRCLE</th>\n",
       "      <th>OBS_60_CNT_SOCIAL_CIRCLE</th>\n",
       "      <th>DEF_60_CNT_SOCIAL_CIRCLE</th>\n",
       "      <th>DAYS_LAST_PHONE_CHANGE</th>\n",
       "      <th>AMT_REQ_CREDIT_BUREAU_HOUR</th>\n",
       "      <th>AMT_REQ_CREDIT_BUREAU_DAY</th>\n",
       "      <th>AMT_REQ_CREDIT_BUREAU_WEEK</th>\n",
       "      <th>AMT_REQ_CREDIT_BUREAU_MON</th>\n",
       "      <th>AMT_REQ_CREDIT_BUREAU_QRT</th>\n",
       "      <th>AMT_REQ_CREDIT_BUREAU_YEAR</th>\n",
       "    </tr>\n",
       "    <tr>\n",
       "      <th>SK_ID_CURR</th>\n",
       "      <th></th>\n",
       "      <th></th>\n",
       "      <th></th>\n",
       "      <th></th>\n",
       "      <th></th>\n",
       "      <th></th>\n",
       "      <th></th>\n",
       "      <th></th>\n",
       "      <th></th>\n",
       "      <th></th>\n",
       "      <th></th>\n",
       "      <th></th>\n",
       "      <th></th>\n",
       "      <th></th>\n",
       "      <th></th>\n",
       "      <th></th>\n",
       "      <th></th>\n",
       "      <th></th>\n",
       "      <th></th>\n",
       "      <th></th>\n",
       "      <th></th>\n",
       "    </tr>\n",
       "  </thead>\n",
       "  <tbody>\n",
       "    <tr>\n",
       "      <th>423876</th>\n",
       "      <td>0</td>\n",
       "      <td>225000.0</td>\n",
       "      <td>180000.0</td>\n",
       "      <td>9000.0</td>\n",
       "      <td>180000.0</td>\n",
       "      <td>0.009630</td>\n",
       "      <td>-15704</td>\n",
       "      <td>-7008</td>\n",
       "      <td>-8368.0</td>\n",
       "      <td>-4283</td>\n",
       "      <td>...</td>\n",
       "      <td>0.0</td>\n",
       "      <td>0.0</td>\n",
       "      <td>0.0</td>\n",
       "      <td>-1015.0</td>\n",
       "      <td>0.0</td>\n",
       "      <td>0.0</td>\n",
       "      <td>0.0</td>\n",
       "      <td>0.0</td>\n",
       "      <td>0.0</td>\n",
       "      <td>2.0</td>\n",
       "    </tr>\n",
       "    <tr>\n",
       "      <th>364563</th>\n",
       "      <td>2</td>\n",
       "      <td>315000.0</td>\n",
       "      <td>157500.0</td>\n",
       "      <td>16960.5</td>\n",
       "      <td>157500.0</td>\n",
       "      <td>0.072508</td>\n",
       "      <td>-15552</td>\n",
       "      <td>-1577</td>\n",
       "      <td>-8733.0</td>\n",
       "      <td>-4624</td>\n",
       "      <td>...</td>\n",
       "      <td>0.0</td>\n",
       "      <td>0.0</td>\n",
       "      <td>0.0</td>\n",
       "      <td>-408.0</td>\n",
       "      <td>0.0</td>\n",
       "      <td>0.0</td>\n",
       "      <td>0.0</td>\n",
       "      <td>0.0</td>\n",
       "      <td>0.0</td>\n",
       "      <td>3.0</td>\n",
       "    </tr>\n",
       "    <tr>\n",
       "      <th>397002</th>\n",
       "      <td>1</td>\n",
       "      <td>180000.0</td>\n",
       "      <td>917140.5</td>\n",
       "      <td>46957.5</td>\n",
       "      <td>805500.0</td>\n",
       "      <td>0.020713</td>\n",
       "      <td>-11459</td>\n",
       "      <td>-519</td>\n",
       "      <td>-3111.0</td>\n",
       "      <td>-3462</td>\n",
       "      <td>...</td>\n",
       "      <td>0.0</td>\n",
       "      <td>2.0</td>\n",
       "      <td>0.0</td>\n",
       "      <td>0.0</td>\n",
       "      <td>0.0</td>\n",
       "      <td>0.0</td>\n",
       "      <td>0.0</td>\n",
       "      <td>1.0</td>\n",
       "      <td>0.0</td>\n",
       "      <td>0.0</td>\n",
       "    </tr>\n",
       "  </tbody>\n",
       "</table>\n",
       "<p>3 rows × 27 columns</p>\n",
       "</div>"
      ],
      "text/plain": [
       "            CNT_CHILDREN  AMT_INCOME_TOTAL  AMT_CREDIT  AMT_ANNUITY  \\\n",
       "SK_ID_CURR                                                            \n",
       "423876                 0          225000.0    180000.0       9000.0   \n",
       "364563                 2          315000.0    157500.0      16960.5   \n",
       "397002                 1          180000.0    917140.5      46957.5   \n",
       "\n",
       "            AMT_GOODS_PRICE  REGION_POPULATION_RELATIVE  DAYS_BIRTH  \\\n",
       "SK_ID_CURR                                                            \n",
       "423876             180000.0                    0.009630      -15704   \n",
       "364563             157500.0                    0.072508      -15552   \n",
       "397002             805500.0                    0.020713      -11459   \n",
       "\n",
       "            DAYS_EMPLOYED  DAYS_REGISTRATION  DAYS_ID_PUBLISH  ...  \\\n",
       "SK_ID_CURR                                                     ...   \n",
       "423876              -7008            -8368.0            -4283  ...   \n",
       "364563              -1577            -8733.0            -4624  ...   \n",
       "397002               -519            -3111.0            -3462  ...   \n",
       "\n",
       "            DEF_30_CNT_SOCIAL_CIRCLE  OBS_60_CNT_SOCIAL_CIRCLE  \\\n",
       "SK_ID_CURR                                                       \n",
       "423876                           0.0                       0.0   \n",
       "364563                           0.0                       0.0   \n",
       "397002                           0.0                       2.0   \n",
       "\n",
       "            DEF_60_CNT_SOCIAL_CIRCLE  DAYS_LAST_PHONE_CHANGE  \\\n",
       "SK_ID_CURR                                                     \n",
       "423876                           0.0                 -1015.0   \n",
       "364563                           0.0                  -408.0   \n",
       "397002                           0.0                     0.0   \n",
       "\n",
       "            AMT_REQ_CREDIT_BUREAU_HOUR  AMT_REQ_CREDIT_BUREAU_DAY  \\\n",
       "SK_ID_CURR                                                          \n",
       "423876                             0.0                        0.0   \n",
       "364563                             0.0                        0.0   \n",
       "397002                             0.0                        0.0   \n",
       "\n",
       "            AMT_REQ_CREDIT_BUREAU_WEEK  AMT_REQ_CREDIT_BUREAU_MON  \\\n",
       "SK_ID_CURR                                                          \n",
       "423876                             0.0                        0.0   \n",
       "364563                             0.0                        0.0   \n",
       "397002                             0.0                        1.0   \n",
       "\n",
       "            AMT_REQ_CREDIT_BUREAU_QRT  AMT_REQ_CREDIT_BUREAU_YEAR  \n",
       "SK_ID_CURR                                                         \n",
       "423876                            0.0                         2.0  \n",
       "364563                            0.0                         3.0  \n",
       "397002                            0.0                         0.0  \n",
       "\n",
       "[3 rows x 27 columns]"
      ]
     },
     "metadata": {},
     "output_type": "display_data"
    },
    {
     "data": {
      "text/markdown": [
       "**- X_test numerical data's head(3):**"
      ],
      "text/plain": [
       "<IPython.core.display.Markdown object>"
      ]
     },
     "metadata": {},
     "output_type": "display_data"
    },
    {
     "data": {
      "text/html": [
       "<div>\n",
       "<style scoped>\n",
       "    .dataframe tbody tr th:only-of-type {\n",
       "        vertical-align: middle;\n",
       "    }\n",
       "\n",
       "    .dataframe tbody tr th {\n",
       "        vertical-align: top;\n",
       "    }\n",
       "\n",
       "    .dataframe thead th {\n",
       "        text-align: right;\n",
       "    }\n",
       "</style>\n",
       "<table border=\"1\" class=\"dataframe\">\n",
       "  <thead>\n",
       "    <tr style=\"text-align: right;\">\n",
       "      <th></th>\n",
       "      <th>CNT_CHILDREN</th>\n",
       "      <th>AMT_INCOME_TOTAL</th>\n",
       "      <th>AMT_CREDIT</th>\n",
       "      <th>AMT_ANNUITY</th>\n",
       "      <th>AMT_GOODS_PRICE</th>\n",
       "      <th>REGION_POPULATION_RELATIVE</th>\n",
       "      <th>DAYS_BIRTH</th>\n",
       "      <th>DAYS_EMPLOYED</th>\n",
       "      <th>DAYS_REGISTRATION</th>\n",
       "      <th>DAYS_ID_PUBLISH</th>\n",
       "      <th>...</th>\n",
       "      <th>DEF_30_CNT_SOCIAL_CIRCLE</th>\n",
       "      <th>OBS_60_CNT_SOCIAL_CIRCLE</th>\n",
       "      <th>DEF_60_CNT_SOCIAL_CIRCLE</th>\n",
       "      <th>DAYS_LAST_PHONE_CHANGE</th>\n",
       "      <th>AMT_REQ_CREDIT_BUREAU_HOUR</th>\n",
       "      <th>AMT_REQ_CREDIT_BUREAU_DAY</th>\n",
       "      <th>AMT_REQ_CREDIT_BUREAU_WEEK</th>\n",
       "      <th>AMT_REQ_CREDIT_BUREAU_MON</th>\n",
       "      <th>AMT_REQ_CREDIT_BUREAU_QRT</th>\n",
       "      <th>AMT_REQ_CREDIT_BUREAU_YEAR</th>\n",
       "    </tr>\n",
       "    <tr>\n",
       "      <th>SK_ID_CURR</th>\n",
       "      <th></th>\n",
       "      <th></th>\n",
       "      <th></th>\n",
       "      <th></th>\n",
       "      <th></th>\n",
       "      <th></th>\n",
       "      <th></th>\n",
       "      <th></th>\n",
       "      <th></th>\n",
       "      <th></th>\n",
       "      <th></th>\n",
       "      <th></th>\n",
       "      <th></th>\n",
       "      <th></th>\n",
       "      <th></th>\n",
       "      <th></th>\n",
       "      <th></th>\n",
       "      <th></th>\n",
       "      <th></th>\n",
       "      <th></th>\n",
       "      <th></th>\n",
       "    </tr>\n",
       "  </thead>\n",
       "  <tbody>\n",
       "    <tr>\n",
       "      <th>319636</th>\n",
       "      <td>0</td>\n",
       "      <td>112500.0</td>\n",
       "      <td>225000.0</td>\n",
       "      <td>13045.5</td>\n",
       "      <td>225000.0</td>\n",
       "      <td>0.030755</td>\n",
       "      <td>-14217</td>\n",
       "      <td>-2621</td>\n",
       "      <td>-4417.0</td>\n",
       "      <td>-4421</td>\n",
       "      <td>...</td>\n",
       "      <td>0.0</td>\n",
       "      <td>1.0</td>\n",
       "      <td>0.0</td>\n",
       "      <td>-1594.0</td>\n",
       "      <td>0.0</td>\n",
       "      <td>0.0</td>\n",
       "      <td>0.0</td>\n",
       "      <td>0.0</td>\n",
       "      <td>0.0</td>\n",
       "      <td>1.0</td>\n",
       "    </tr>\n",
       "    <tr>\n",
       "      <th>226750</th>\n",
       "      <td>0</td>\n",
       "      <td>202500.0</td>\n",
       "      <td>545040.0</td>\n",
       "      <td>36553.5</td>\n",
       "      <td>450000.0</td>\n",
       "      <td>0.010147</td>\n",
       "      <td>-16187</td>\n",
       "      <td>-1238</td>\n",
       "      <td>-959.0</td>\n",
       "      <td>-1181</td>\n",
       "      <td>...</td>\n",
       "      <td>0.0</td>\n",
       "      <td>0.0</td>\n",
       "      <td>0.0</td>\n",
       "      <td>-294.0</td>\n",
       "      <td>0.0</td>\n",
       "      <td>0.0</td>\n",
       "      <td>0.0</td>\n",
       "      <td>0.0</td>\n",
       "      <td>0.0</td>\n",
       "      <td>1.0</td>\n",
       "    </tr>\n",
       "    <tr>\n",
       "      <th>307689</th>\n",
       "      <td>2</td>\n",
       "      <td>148500.0</td>\n",
       "      <td>1006920.0</td>\n",
       "      <td>42790.5</td>\n",
       "      <td>900000.0</td>\n",
       "      <td>0.035792</td>\n",
       "      <td>-14838</td>\n",
       "      <td>-4857</td>\n",
       "      <td>-7309.0</td>\n",
       "      <td>-4830</td>\n",
       "      <td>...</td>\n",
       "      <td>0.0</td>\n",
       "      <td>1.0</td>\n",
       "      <td>0.0</td>\n",
       "      <td>-3355.0</td>\n",
       "      <td>0.0</td>\n",
       "      <td>0.0</td>\n",
       "      <td>0.0</td>\n",
       "      <td>0.0</td>\n",
       "      <td>1.0</td>\n",
       "      <td>3.0</td>\n",
       "    </tr>\n",
       "  </tbody>\n",
       "</table>\n",
       "<p>3 rows × 27 columns</p>\n",
       "</div>"
      ],
      "text/plain": [
       "            CNT_CHILDREN  AMT_INCOME_TOTAL  AMT_CREDIT  AMT_ANNUITY  \\\n",
       "SK_ID_CURR                                                            \n",
       "319636                 0          112500.0    225000.0      13045.5   \n",
       "226750                 0          202500.0    545040.0      36553.5   \n",
       "307689                 2          148500.0   1006920.0      42790.5   \n",
       "\n",
       "            AMT_GOODS_PRICE  REGION_POPULATION_RELATIVE  DAYS_BIRTH  \\\n",
       "SK_ID_CURR                                                            \n",
       "319636             225000.0                    0.030755      -14217   \n",
       "226750             450000.0                    0.010147      -16187   \n",
       "307689             900000.0                    0.035792      -14838   \n",
       "\n",
       "            DAYS_EMPLOYED  DAYS_REGISTRATION  DAYS_ID_PUBLISH  ...  \\\n",
       "SK_ID_CURR                                                     ...   \n",
       "319636              -2621            -4417.0            -4421  ...   \n",
       "226750              -1238             -959.0            -1181  ...   \n",
       "307689              -4857            -7309.0            -4830  ...   \n",
       "\n",
       "            DEF_30_CNT_SOCIAL_CIRCLE  OBS_60_CNT_SOCIAL_CIRCLE  \\\n",
       "SK_ID_CURR                                                       \n",
       "319636                           0.0                       1.0   \n",
       "226750                           0.0                       0.0   \n",
       "307689                           0.0                       1.0   \n",
       "\n",
       "            DEF_60_CNT_SOCIAL_CIRCLE  DAYS_LAST_PHONE_CHANGE  \\\n",
       "SK_ID_CURR                                                     \n",
       "319636                           0.0                 -1594.0   \n",
       "226750                           0.0                  -294.0   \n",
       "307689                           0.0                 -3355.0   \n",
       "\n",
       "            AMT_REQ_CREDIT_BUREAU_HOUR  AMT_REQ_CREDIT_BUREAU_DAY  \\\n",
       "SK_ID_CURR                                                          \n",
       "319636                             0.0                        0.0   \n",
       "226750                             0.0                        0.0   \n",
       "307689                             0.0                        0.0   \n",
       "\n",
       "            AMT_REQ_CREDIT_BUREAU_WEEK  AMT_REQ_CREDIT_BUREAU_MON  \\\n",
       "SK_ID_CURR                                                          \n",
       "319636                             0.0                        0.0   \n",
       "226750                             0.0                        0.0   \n",
       "307689                             0.0                        0.0   \n",
       "\n",
       "            AMT_REQ_CREDIT_BUREAU_QRT  AMT_REQ_CREDIT_BUREAU_YEAR  \n",
       "SK_ID_CURR                                                         \n",
       "319636                            0.0                         1.0  \n",
       "226750                            0.0                         1.0  \n",
       "307689                            1.0                         3.0  \n",
       "\n",
       "[3 rows x 27 columns]"
      ]
     },
     "metadata": {},
     "output_type": "display_data"
    },
    {
     "data": {
      "text/markdown": [
       "**After standardization:**"
      ],
      "text/plain": [
       "<IPython.core.display.Markdown object>"
      ]
     },
     "metadata": {},
     "output_type": "display_data"
    },
    {
     "data": {
      "text/markdown": [
       "**- X_train numerical data's head(3):**"
      ],
      "text/plain": [
       "<IPython.core.display.Markdown object>"
      ]
     },
     "metadata": {},
     "output_type": "display_data"
    },
    {
     "data": {
      "text/html": [
       "<div>\n",
       "<style scoped>\n",
       "    .dataframe tbody tr th:only-of-type {\n",
       "        vertical-align: middle;\n",
       "    }\n",
       "\n",
       "    .dataframe tbody tr th {\n",
       "        vertical-align: top;\n",
       "    }\n",
       "\n",
       "    .dataframe thead th {\n",
       "        text-align: right;\n",
       "    }\n",
       "</style>\n",
       "<table border=\"1\" class=\"dataframe\">\n",
       "  <thead>\n",
       "    <tr style=\"text-align: right;\">\n",
       "      <th></th>\n",
       "      <th>CNT_CHILDREN</th>\n",
       "      <th>AMT_INCOME_TOTAL</th>\n",
       "      <th>AMT_CREDIT</th>\n",
       "      <th>AMT_ANNUITY</th>\n",
       "      <th>AMT_GOODS_PRICE</th>\n",
       "      <th>REGION_POPULATION_RELATIVE</th>\n",
       "      <th>DAYS_BIRTH</th>\n",
       "      <th>DAYS_EMPLOYED</th>\n",
       "      <th>DAYS_REGISTRATION</th>\n",
       "      <th>DAYS_ID_PUBLISH</th>\n",
       "      <th>...</th>\n",
       "      <th>DEF_30_CNT_SOCIAL_CIRCLE</th>\n",
       "      <th>OBS_60_CNT_SOCIAL_CIRCLE</th>\n",
       "      <th>DEF_60_CNT_SOCIAL_CIRCLE</th>\n",
       "      <th>DAYS_LAST_PHONE_CHANGE</th>\n",
       "      <th>AMT_REQ_CREDIT_BUREAU_HOUR</th>\n",
       "      <th>AMT_REQ_CREDIT_BUREAU_DAY</th>\n",
       "      <th>AMT_REQ_CREDIT_BUREAU_WEEK</th>\n",
       "      <th>AMT_REQ_CREDIT_BUREAU_MON</th>\n",
       "      <th>AMT_REQ_CREDIT_BUREAU_QRT</th>\n",
       "      <th>AMT_REQ_CREDIT_BUREAU_YEAR</th>\n",
       "    </tr>\n",
       "    <tr>\n",
       "      <th>SK_ID_CURR</th>\n",
       "      <th></th>\n",
       "      <th></th>\n",
       "      <th></th>\n",
       "      <th></th>\n",
       "      <th></th>\n",
       "      <th></th>\n",
       "      <th></th>\n",
       "      <th></th>\n",
       "      <th></th>\n",
       "      <th></th>\n",
       "      <th></th>\n",
       "      <th></th>\n",
       "      <th></th>\n",
       "      <th></th>\n",
       "      <th></th>\n",
       "      <th></th>\n",
       "      <th></th>\n",
       "      <th></th>\n",
       "      <th></th>\n",
       "      <th></th>\n",
       "      <th></th>\n",
       "    </tr>\n",
       "  </thead>\n",
       "  <tbody>\n",
       "    <tr>\n",
       "      <th>423876</th>\n",
       "      <td>-0.665432</td>\n",
       "      <td>0.127460</td>\n",
       "      <td>-1.079335</td>\n",
       "      <td>-1.302826</td>\n",
       "      <td>-1.007892</td>\n",
       "      <td>-0.814100</td>\n",
       "      <td>-0.231679</td>\n",
       "      <td>-1.893769</td>\n",
       "      <td>-1.152044</td>\n",
       "      <td>-0.939145</td>\n",
       "      <td>...</td>\n",
       "      <td>-0.315153</td>\n",
       "      <td>-0.568833</td>\n",
       "      <td>-0.270642</td>\n",
       "      <td>-0.008301</td>\n",
       "      <td>-0.075914</td>\n",
       "      <td>-0.060747</td>\n",
       "      <td>-0.170569</td>\n",
       "      <td>-0.300715</td>\n",
       "      <td>-0.426944</td>\n",
       "      <td>0.077447</td>\n",
       "    </tr>\n",
       "    <tr>\n",
       "      <th>364563</th>\n",
       "      <td>1.926128</td>\n",
       "      <td>0.378915</td>\n",
       "      <td>-1.134366</td>\n",
       "      <td>-0.754310</td>\n",
       "      <td>-1.067871</td>\n",
       "      <td>3.842681</td>\n",
       "      <td>-0.189449</td>\n",
       "      <td>0.373570</td>\n",
       "      <td>-1.264624</td>\n",
       "      <td>-1.166518</td>\n",
       "      <td>...</td>\n",
       "      <td>-0.315153</td>\n",
       "      <td>-0.568833</td>\n",
       "      <td>-0.270642</td>\n",
       "      <td>0.718242</td>\n",
       "      <td>-0.075914</td>\n",
       "      <td>-0.060747</td>\n",
       "      <td>-0.170569</td>\n",
       "      <td>-0.300715</td>\n",
       "      <td>-0.426944</td>\n",
       "      <td>0.628343</td>\n",
       "    </tr>\n",
       "    <tr>\n",
       "      <th>397002</th>\n",
       "      <td>0.630348</td>\n",
       "      <td>0.001733</td>\n",
       "      <td>0.723594</td>\n",
       "      <td>1.312628</td>\n",
       "      <td>0.659512</td>\n",
       "      <td>0.006713</td>\n",
       "      <td>0.947721</td>\n",
       "      <td>0.815264</td>\n",
       "      <td>0.469422</td>\n",
       "      <td>-0.391715</td>\n",
       "      <td>...</td>\n",
       "      <td>-0.315153</td>\n",
       "      <td>0.236959</td>\n",
       "      <td>-0.270642</td>\n",
       "      <td>1.206594</td>\n",
       "      <td>-0.075914</td>\n",
       "      <td>-0.060747</td>\n",
       "      <td>-0.170569</td>\n",
       "      <td>0.740612</td>\n",
       "      <td>-0.426944</td>\n",
       "      <td>-1.024346</td>\n",
       "    </tr>\n",
       "  </tbody>\n",
       "</table>\n",
       "<p>3 rows × 27 columns</p>\n",
       "</div>"
      ],
      "text/plain": [
       "            CNT_CHILDREN  AMT_INCOME_TOTAL  AMT_CREDIT  AMT_ANNUITY  \\\n",
       "SK_ID_CURR                                                            \n",
       "423876         -0.665432          0.127460   -1.079335    -1.302826   \n",
       "364563          1.926128          0.378915   -1.134366    -0.754310   \n",
       "397002          0.630348          0.001733    0.723594     1.312628   \n",
       "\n",
       "            AMT_GOODS_PRICE  REGION_POPULATION_RELATIVE  DAYS_BIRTH  \\\n",
       "SK_ID_CURR                                                            \n",
       "423876            -1.007892                   -0.814100   -0.231679   \n",
       "364563            -1.067871                    3.842681   -0.189449   \n",
       "397002             0.659512                    0.006713    0.947721   \n",
       "\n",
       "            DAYS_EMPLOYED  DAYS_REGISTRATION  DAYS_ID_PUBLISH  ...  \\\n",
       "SK_ID_CURR                                                     ...   \n",
       "423876          -1.893769          -1.152044        -0.939145  ...   \n",
       "364563           0.373570          -1.264624        -1.166518  ...   \n",
       "397002           0.815264           0.469422        -0.391715  ...   \n",
       "\n",
       "            DEF_30_CNT_SOCIAL_CIRCLE  OBS_60_CNT_SOCIAL_CIRCLE  \\\n",
       "SK_ID_CURR                                                       \n",
       "423876                     -0.315153                 -0.568833   \n",
       "364563                     -0.315153                 -0.568833   \n",
       "397002                     -0.315153                  0.236959   \n",
       "\n",
       "            DEF_60_CNT_SOCIAL_CIRCLE  DAYS_LAST_PHONE_CHANGE  \\\n",
       "SK_ID_CURR                                                     \n",
       "423876                     -0.270642               -0.008301   \n",
       "364563                     -0.270642                0.718242   \n",
       "397002                     -0.270642                1.206594   \n",
       "\n",
       "            AMT_REQ_CREDIT_BUREAU_HOUR  AMT_REQ_CREDIT_BUREAU_DAY  \\\n",
       "SK_ID_CURR                                                          \n",
       "423876                       -0.075914                  -0.060747   \n",
       "364563                       -0.075914                  -0.060747   \n",
       "397002                       -0.075914                  -0.060747   \n",
       "\n",
       "            AMT_REQ_CREDIT_BUREAU_WEEK  AMT_REQ_CREDIT_BUREAU_MON  \\\n",
       "SK_ID_CURR                                                          \n",
       "423876                       -0.170569                  -0.300715   \n",
       "364563                       -0.170569                  -0.300715   \n",
       "397002                       -0.170569                   0.740612   \n",
       "\n",
       "            AMT_REQ_CREDIT_BUREAU_QRT  AMT_REQ_CREDIT_BUREAU_YEAR  \n",
       "SK_ID_CURR                                                         \n",
       "423876                      -0.426944                    0.077447  \n",
       "364563                      -0.426944                    0.628343  \n",
       "397002                      -0.426944                   -1.024346  \n",
       "\n",
       "[3 rows x 27 columns]"
      ]
     },
     "metadata": {},
     "output_type": "display_data"
    },
    {
     "data": {
      "text/markdown": [
       "**- X_test numerical data's head(3):**"
      ],
      "text/plain": [
       "<IPython.core.display.Markdown object>"
      ]
     },
     "metadata": {},
     "output_type": "display_data"
    },
    {
     "data": {
      "text/html": [
       "<div>\n",
       "<style scoped>\n",
       "    .dataframe tbody tr th:only-of-type {\n",
       "        vertical-align: middle;\n",
       "    }\n",
       "\n",
       "    .dataframe tbody tr th {\n",
       "        vertical-align: top;\n",
       "    }\n",
       "\n",
       "    .dataframe thead th {\n",
       "        text-align: right;\n",
       "    }\n",
       "</style>\n",
       "<table border=\"1\" class=\"dataframe\">\n",
       "  <thead>\n",
       "    <tr style=\"text-align: right;\">\n",
       "      <th></th>\n",
       "      <th>CNT_CHILDREN</th>\n",
       "      <th>AMT_INCOME_TOTAL</th>\n",
       "      <th>AMT_CREDIT</th>\n",
       "      <th>AMT_ANNUITY</th>\n",
       "      <th>AMT_GOODS_PRICE</th>\n",
       "      <th>REGION_POPULATION_RELATIVE</th>\n",
       "      <th>DAYS_BIRTH</th>\n",
       "      <th>DAYS_EMPLOYED</th>\n",
       "      <th>DAYS_REGISTRATION</th>\n",
       "      <th>DAYS_ID_PUBLISH</th>\n",
       "      <th>...</th>\n",
       "      <th>DEF_30_CNT_SOCIAL_CIRCLE</th>\n",
       "      <th>OBS_60_CNT_SOCIAL_CIRCLE</th>\n",
       "      <th>DEF_60_CNT_SOCIAL_CIRCLE</th>\n",
       "      <th>DAYS_LAST_PHONE_CHANGE</th>\n",
       "      <th>AMT_REQ_CREDIT_BUREAU_HOUR</th>\n",
       "      <th>AMT_REQ_CREDIT_BUREAU_DAY</th>\n",
       "      <th>AMT_REQ_CREDIT_BUREAU_WEEK</th>\n",
       "      <th>AMT_REQ_CREDIT_BUREAU_MON</th>\n",
       "      <th>AMT_REQ_CREDIT_BUREAU_QRT</th>\n",
       "      <th>AMT_REQ_CREDIT_BUREAU_YEAR</th>\n",
       "    </tr>\n",
       "    <tr>\n",
       "      <th>SK_ID_CURR</th>\n",
       "      <th></th>\n",
       "      <th></th>\n",
       "      <th></th>\n",
       "      <th></th>\n",
       "      <th></th>\n",
       "      <th></th>\n",
       "      <th></th>\n",
       "      <th></th>\n",
       "      <th></th>\n",
       "      <th></th>\n",
       "      <th></th>\n",
       "      <th></th>\n",
       "      <th></th>\n",
       "      <th></th>\n",
       "      <th></th>\n",
       "      <th></th>\n",
       "      <th></th>\n",
       "      <th></th>\n",
       "      <th></th>\n",
       "      <th></th>\n",
       "      <th></th>\n",
       "    </tr>\n",
       "  </thead>\n",
       "  <tbody>\n",
       "    <tr>\n",
       "      <th>319636</th>\n",
       "      <td>-0.665432</td>\n",
       "      <td>-0.186858</td>\n",
       "      <td>-0.969272</td>\n",
       "      <td>-1.024072</td>\n",
       "      <td>-0.887935</td>\n",
       "      <td>0.750429</td>\n",
       "      <td>0.181458</td>\n",
       "      <td>-0.062280</td>\n",
       "      <td>0.066600</td>\n",
       "      <td>-1.031161</td>\n",
       "      <td>...</td>\n",
       "      <td>-0.315153</td>\n",
       "      <td>-0.165937</td>\n",
       "      <td>-0.270642</td>\n",
       "      <td>-0.701330</td>\n",
       "      <td>-0.075914</td>\n",
       "      <td>-0.060747</td>\n",
       "      <td>-0.170569</td>\n",
       "      <td>-0.300715</td>\n",
       "      <td>-0.426944</td>\n",
       "      <td>-0.473450</td>\n",
       "    </tr>\n",
       "    <tr>\n",
       "      <th>226750</th>\n",
       "      <td>-0.665432</td>\n",
       "      <td>0.064597</td>\n",
       "      <td>-0.186505</td>\n",
       "      <td>0.595742</td>\n",
       "      <td>-0.288149</td>\n",
       "      <td>-0.775811</td>\n",
       "      <td>-0.365873</td>\n",
       "      <td>0.515096</td>\n",
       "      <td>1.133184</td>\n",
       "      <td>1.129219</td>\n",
       "      <td>...</td>\n",
       "      <td>-0.315153</td>\n",
       "      <td>-0.568833</td>\n",
       "      <td>-0.270642</td>\n",
       "      <td>0.854693</td>\n",
       "      <td>-0.075914</td>\n",
       "      <td>-0.060747</td>\n",
       "      <td>-0.170569</td>\n",
       "      <td>-0.300715</td>\n",
       "      <td>-0.426944</td>\n",
       "      <td>-0.473450</td>\n",
       "    </tr>\n",
       "    <tr>\n",
       "      <th>307689</th>\n",
       "      <td>1.926128</td>\n",
       "      <td>-0.086276</td>\n",
       "      <td>0.943180</td>\n",
       "      <td>1.025502</td>\n",
       "      <td>0.911422</td>\n",
       "      <td>1.123472</td>\n",
       "      <td>0.008924</td>\n",
       "      <td>-0.995767</td>\n",
       "      <td>-0.825406</td>\n",
       "      <td>-1.303876</td>\n",
       "      <td>...</td>\n",
       "      <td>-0.315153</td>\n",
       "      <td>-0.165937</td>\n",
       "      <td>-0.270642</td>\n",
       "      <td>-2.809143</td>\n",
       "      <td>-0.075914</td>\n",
       "      <td>-0.060747</td>\n",
       "      <td>-0.170569</td>\n",
       "      <td>-0.300715</td>\n",
       "      <td>1.239100</td>\n",
       "      <td>0.628343</td>\n",
       "    </tr>\n",
       "  </tbody>\n",
       "</table>\n",
       "<p>3 rows × 27 columns</p>\n",
       "</div>"
      ],
      "text/plain": [
       "            CNT_CHILDREN  AMT_INCOME_TOTAL  AMT_CREDIT  AMT_ANNUITY  \\\n",
       "SK_ID_CURR                                                            \n",
       "319636         -0.665432         -0.186858   -0.969272    -1.024072   \n",
       "226750         -0.665432          0.064597   -0.186505     0.595742   \n",
       "307689          1.926128         -0.086276    0.943180     1.025502   \n",
       "\n",
       "            AMT_GOODS_PRICE  REGION_POPULATION_RELATIVE  DAYS_BIRTH  \\\n",
       "SK_ID_CURR                                                            \n",
       "319636            -0.887935                    0.750429    0.181458   \n",
       "226750            -0.288149                   -0.775811   -0.365873   \n",
       "307689             0.911422                    1.123472    0.008924   \n",
       "\n",
       "            DAYS_EMPLOYED  DAYS_REGISTRATION  DAYS_ID_PUBLISH  ...  \\\n",
       "SK_ID_CURR                                                     ...   \n",
       "319636          -0.062280           0.066600        -1.031161  ...   \n",
       "226750           0.515096           1.133184         1.129219  ...   \n",
       "307689          -0.995767          -0.825406        -1.303876  ...   \n",
       "\n",
       "            DEF_30_CNT_SOCIAL_CIRCLE  OBS_60_CNT_SOCIAL_CIRCLE  \\\n",
       "SK_ID_CURR                                                       \n",
       "319636                     -0.315153                 -0.165937   \n",
       "226750                     -0.315153                 -0.568833   \n",
       "307689                     -0.315153                 -0.165937   \n",
       "\n",
       "            DEF_60_CNT_SOCIAL_CIRCLE  DAYS_LAST_PHONE_CHANGE  \\\n",
       "SK_ID_CURR                                                     \n",
       "319636                     -0.270642               -0.701330   \n",
       "226750                     -0.270642                0.854693   \n",
       "307689                     -0.270642               -2.809143   \n",
       "\n",
       "            AMT_REQ_CREDIT_BUREAU_HOUR  AMT_REQ_CREDIT_BUREAU_DAY  \\\n",
       "SK_ID_CURR                                                          \n",
       "319636                       -0.075914                  -0.060747   \n",
       "226750                       -0.075914                  -0.060747   \n",
       "307689                       -0.075914                  -0.060747   \n",
       "\n",
       "            AMT_REQ_CREDIT_BUREAU_WEEK  AMT_REQ_CREDIT_BUREAU_MON  \\\n",
       "SK_ID_CURR                                                          \n",
       "319636                       -0.170569                  -0.300715   \n",
       "226750                       -0.170569                  -0.300715   \n",
       "307689                       -0.170569                  -0.300715   \n",
       "\n",
       "            AMT_REQ_CREDIT_BUREAU_QRT  AMT_REQ_CREDIT_BUREAU_YEAR  \n",
       "SK_ID_CURR                                                         \n",
       "319636                      -0.426944                   -0.473450  \n",
       "226750                      -0.426944                   -0.473450  \n",
       "307689                       1.239100                    0.628343  \n",
       "\n",
       "[3 rows x 27 columns]"
      ]
     },
     "metadata": {},
     "output_type": "display_data"
    }
   ],
   "source": [
    "from sklearn.preprocessing import StandardScaler, OneHotEncoder\n",
    "\n",
    "categorical_columns = [col for col in X_train.columns if X_train[col].dtype == 'object']\n",
    "binaryDataColumns = [col for col in X_train if np.isin(X_train[col].unique(), [0, 1]).all()]\n",
    "numericalDataColumns = [col for col in X_train.columns if col not in binaryDataColumns and col not in categorical_columns]\n",
    "categoricalData_train, categoricalData_test = X_train[categorical_columns], X_test[categorical_columns]\n",
    "binaryData_train, binaryData_test = X_train[binaryDataColumns], X_test[binaryDataColumns]\n",
    "numericalData_train, numericalData_test = X_train[numericalDataColumns], X_test[numericalDataColumns]\n",
    "\n",
    "def one_hot_encoder(df_train, df_test):\n",
    "    df_train_index = df_train.index\n",
    "    df_test_index = df_test.index\n",
    "    ohe = OneHotEncoder(sparse=False, handle_unknown='ignore')\n",
    "    df_train = pd.DataFrame(ohe.fit_transform(df_train), columns=ohe.get_feature_names(), index=df_train_index)\n",
    "    df_test = pd.DataFrame(ohe.transform(df_test), columns=ohe.get_feature_names(), index=df_test_index)\n",
    "    return df_train, df_test\n",
    "\n",
    "display(Markdown(f'**Before One-hot encoding:**'))\n",
    "display(Markdown(f'**- X_train categorical data\\'s shape: {categoricalData_train.shape}**'))\n",
    "display(Markdown(f'**- X_test categorical data\\'s shape: {categoricalData_test.shape}**'))\n",
    "categoricalData_train, categoricalData_test = one_hot_encoder(categoricalData_train, categoricalData_test)\n",
    "display(Markdown(f'**After One-hot encoding:**'))\n",
    "display(Markdown(f'**- X_train categorical data\\'s shape: {categoricalData_train.shape}**'))\n",
    "display(Markdown(f'**- X_test categorical data\\'s shape: {categoricalData_test.shape}**'))\n",
    "\n",
    "def standardization(df_train, df_test):\n",
    "    df_train_index = df_train.index\n",
    "    df_test_index = df_test.index\n",
    "    scaler = StandardScaler()\n",
    "    df_train = pd.DataFrame(scaler.fit_transform(df_train), columns=numericalDataColumns, index=df_train_index)\n",
    "    df_test = pd.DataFrame(scaler.transform(df_test), columns=numericalDataColumns, index=df_test.index)\n",
    "    return df_train, df_test\n",
    "\n",
    "display(Markdown(f'**Before standardization:**'))\n",
    "display(Markdown(f'**- X_train numerical data\\'s head(3):**'))\n",
    "display(numericalData_train.head(3))\n",
    "display(Markdown(f'**- X_test numerical data\\'s head(3):**'))\n",
    "display(numericalData_test.head(3))\n",
    "numericalData_train, numericalData_test = standardization(numericalData_train, numericalData_test)\n",
    "display(Markdown(f'**After standardization:**'))\n",
    "display(Markdown(f'**- X_train numerical data\\'s head(3):**'))\n",
    "display(numericalData_train.head(3))\n",
    "display(Markdown(f'**- X_test numerical data\\'s head(3):**'))\n",
    "display(numericalData_test.head(3))"
   ]
  },
  {
   "cell_type": "markdown",
   "metadata": {},
   "source": [
    "### 合併回完整的 X_train 和 X_test"
   ]
  },
  {
   "cell_type": "code",
   "execution_count": 10,
   "metadata": {},
   "outputs": [],
   "source": [
    "X_train = pd.concat([numericalData_train, binaryData_train, categoricalData_train], axis=1)\n",
    "X_test = pd.concat([numericalData_test, binaryData_test, categoricalData_test], axis=1)"
   ]
  },
  {
   "cell_type": "markdown",
   "metadata": {},
   "source": [
    "### 處理 protected attributes"
   ]
  },
  {
   "cell_type": "code",
   "execution_count": 11,
   "metadata": {},
   "outputs": [],
   "source": [
    "def processProtectedAttributes(df):\n",
    "    df['age_lt0'] = np.zeros(df.shape[0])\n",
    "    df['education'] = np.zeros(df.shape[0])\n",
    "    df['GENDER_F'] = np.zeros(df.shape[0])\n",
    "    df['GENDER_M'] = np.zeros(df.shape[0])\n",
    "    \n",
    "    df.loc[df['DAYS_BIRTH'] >= 0, 'age_lt0'] = 1\n",
    "    df.loc[df['DAYS_BIRTH'] < 0, 'age_lt0'] = 0\n",
    "\n",
    "    df.loc[df['x6_Academic degree'] > 0.5, 'education'] = 1\n",
    "    df.loc[df['x6_Higher education'] > 0.5, 'education'] = 1\n",
    "    df.loc[df['x6_Incomplete higher'] > 0.5, 'education'] = 0\n",
    "    df.loc[df['x6_Lower secondary'] > 0.5, 'education'] = 0\n",
    "    df.loc[df['x6_Secondary / secondary special'] > 0.5, 'education'] = 0\n",
    "\n",
    "    df.loc[df['x1_F'] > 0.5, 'GENDER_F'] = 1\n",
    "    df.loc[df['x1_M'] > 0.5, 'GENDER_M'] = 1\n",
    "\n",
    "    df = df.drop('DAYS_BIRTH', axis=1)\n",
    "    df = df.drop('x6_Academic degree', axis=1)\n",
    "    df = df.drop('x6_Higher education', axis=1)\n",
    "    df = df.drop('x6_Incomplete higher', axis=1)\n",
    "    df = df.drop('x6_Lower secondary', axis=1)\n",
    "    df = df.drop('x6_Secondary / secondary special', axis=1)\n",
    "    df = df.drop('x1_F', axis=1)\n",
    "    df = df.drop('x1_M', axis=1)\n",
    "    \n",
    "    return df\n",
    "\n",
    "X_train = processProtectedAttributes(X_train)\n",
    "X_test = processProtectedAttributes(X_test)"
   ]
  },
  {
   "cell_type": "markdown",
   "metadata": {},
   "source": [
    "### 將 JSON 格式的 column name 以底線取代冒號與空白"
   ]
  },
  {
   "cell_type": "code",
   "execution_count": 12,
   "metadata": {},
   "outputs": [],
   "source": [
    "X_train.columns = [\"\".join (c if c.isalnum() else \"_\" for c in str(x)) for x in X_train.columns]\n",
    "X_test.columns = [\"\".join (c if c.isalnum() else \"_\" for c in str(x)) for x in X_test.columns]"
   ]
  },
  {
   "cell_type": "code",
   "execution_count": 13,
   "metadata": {},
   "outputs": [
    {
     "data": {
      "text/markdown": [
       "**After processing bias features:**"
      ],
      "text/plain": [
       "<IPython.core.display.Markdown object>"
      ]
     },
     "metadata": {},
     "output_type": "display_data"
    },
    {
     "data": {
      "text/markdown": [
       "**- X_train's shape: (117411, 174)**"
      ],
      "text/plain": [
       "<IPython.core.display.Markdown object>"
      ]
     },
     "metadata": {},
     "output_type": "display_data"
    },
    {
     "data": {
      "text/markdown": [
       "**- X_test's shape: (50319, 174)**"
      ],
      "text/plain": [
       "<IPython.core.display.Markdown object>"
      ]
     },
     "metadata": {},
     "output_type": "display_data"
    }
   ],
   "source": [
    "display(Markdown(f'**After processing bias features:**'))\n",
    "display(Markdown(f'**- X_train\\'s shape: {X_train.shape}**'))\n",
    "display(Markdown(f'**- X_test\\'s shape: {X_test.shape}**'))"
   ]
  },
  {
   "cell_type": "markdown",
   "metadata": {},
   "source": [
    "### **The dataset is imbalanced!**"
   ]
  },
  {
   "cell_type": "code",
   "execution_count": 14,
   "metadata": {},
   "outputs": [
    {
     "data": {
      "image/png": "[encoded data removed]",
      "text/plain": [
       "<Figure size 720x720 with 2 Axes>"
      ]
     },
     "metadata": {},
     "output_type": "display_data"
    }
   ],
   "source": [
    "from collections import Counter\n",
    "\n",
    "labels = [1, 0]\n",
    "train_counter = Counter(y_train)\n",
    "train_values = [train_counter[1], train_counter[0]]\n",
    "test_counter = Counter(y_test)\n",
    "test_values = [test_counter[1], test_counter[0]]\n",
    "fig, ax = plt.subplots(1, 2, figsize=(10,10))\n",
    "ax1, ax2 = ax.flatten()\n",
    "ax1.pie(train_values, labels=labels, autopct='%1.1f%%', shadow=True, colors=['lightskyblue', 'gold'], textprops={'fontsize': 14})\n",
    "ax1.set_title('Labels\\' distribution in y_train', fontsize=16)\n",
    "ax2.pie(test_values, labels=labels, autopct='%1.1f%%', shadow=True, colors=['lightskyblue', 'gold'], textprops={'fontsize': 14})\n",
    "ax2.set_title('Labels\\' distribution in y_test', fontsize=16)\n",
    "plt.show()"
   ]
  },
  {
   "cell_type": "markdown",
   "metadata": {},
   "source": [
    "### 如上圖所見，就`y_train` 和 `y_test` 中的 `1` 和 `0` 分佈狀況而言，很明顯地 `0` 佔了**九**成的數量，而 `1` 只有不到**一**成的數量。這是一個不平衡的資料集。"
   ]
  },
  {
   "cell_type": "code",
   "execution_count": null,
   "metadata": {},
   "outputs": [],
   "source": [
    "from imblearn.under_sampling import TomekLinks\n",
    "from imblearn.over_sampling import SMOTENC\n",
    "from imblearn.pipeline import Pipeline\n",
    "\n",
    "binaryDataColumns = [col for col in X_train if np.isin(X_train[col].unique(), [0, 1]).all()]\n",
    "binaryDataColumnIndex = [X_train.columns.get_loc(col) for col in binaryDataColumns]\n",
    "\n",
    "# define pipeline\n",
    "# sampling_strategy=0.1: 10% the number of examples of the majority class\n",
    "over = SMOTENC(categorical_features=binaryDataColumnIndex, sampling_strategy=0.1)\n",
    "under = TomekLinks()\n",
    "steps = [('o', over), ('u', under)]\n",
    "pipeline = Pipeline(steps=steps)\n",
    "\n",
    "# transform the dataset\n",
    "X_train_over_under, y_train_over_under = pipeline.fit_resample(X_train, y_train)"
   ]
  },
  {
   "cell_type": "code",
   "execution_count": null,
   "metadata": {},
   "outputs": [],
   "source": [
    "X_train_over_under.shape, y_train_over_under.shape, X_test.shape, y_test.shape"
   ]
  },
  {
   "cell_type": "code",
   "execution_count": null,
   "metadata": {},
   "outputs": [],
   "source": [
    "y_train_over_under = pd.DataFrame(y_train_over_under, columns=['TARGET'])\n",
    "y_test = pd.DataFrame(y_test, columns=['TARGET'])\n",
    "\n",
    "X_train_over_under.to_csv('X_train.csv')\n",
    "y_train_over_under.to_csv('y_train.csv')\n",
    "X_test.to_csv('X_test.csv')\n",
    "y_test.to_csv('y_test.csv')"
   ]
  },
  {
   "cell_type": "markdown",
   "metadata": {},
   "source": [
    "---"
   ]
  },
  {
   "cell_type": "markdown",
   "metadata": {},
   "source": [
    "# **Task 1**"
   ]
  },
  {
   "cell_type": "markdown",
   "metadata": {},
   "source": [
    "# 5. Explore many different models and short-list the best ones"
   ]
  },
  {
   "cell_type": "code",
   "execution_count": null,
   "metadata": {},
   "outputs": [],
   "source": [
    "from yellowbrick.classifier import ConfusionMatrix\n",
    "from yellowbrick.classifier import ClassificationReport\n",
    "from yellowbrick.classifier import ClassPredictionError\n",
    "from yellowbrick.classifier import PrecisionRecallCurve\n",
    "from yellowbrick.classifier import DiscriminationThreshold\n",
    "from yellowbrick.classifier import ROCAUC\n",
    "\n",
    "def predictedEvaluation(model, X_test, y_test):\n",
    "    # Predictions on the test dataset\n",
    "    predicted = pd.DataFrame(model.predict(X_test))\n",
    "    # Probabilities on the test dataset\n",
    "    probs = pd.DataFrame(model.predict_proba(X_test))\n",
    "    \n",
    "    # Store metrics    \n",
    "    roc_auc = metrics.roc_auc_score(y_test, probs[1])\n",
    "    accuracy = metrics.accuracy_score(y_test, predicted)\n",
    "    precision_0 = metrics.precision_score(y_test, predicted, pos_label=0)\n",
    "    recall_0 = metrics.recall_score(y_test, predicted, pos_label=0)\n",
    "    f1_0 = metrics.f1_score(y_test, predicted, pos_label=0)\n",
    "    precision_1 = metrics.precision_score(y_test, predicted, pos_label=1)\n",
    "    recall_1 = metrics.recall_score(y_test, predicted, pos_label=1)\n",
    "    f1_1 = metrics.f1_score(y_test, predicted, pos_label=1)\n",
    "    \n",
    "    print('roc_auc:', roc_auc)\n",
    "    \n",
    "    visualizer = ConfusionMatrix(model, support=True)\n",
    "    visualizer.score(X_test, y_test)\n",
    "    visualizer.show()    \n",
    "\n",
    "    visualizer = ClassificationReport(model, support=True)\n",
    "    visualizer.score(X_test, y_test)\n",
    "    visualizer.show()\n",
    "        \n",
    "    visualizer = ClassPredictionError(model)\n",
    "    visualizer.score(X_test, y_test)\n",
    "    \n",
    "    visualizer = PrecisionRecallCurve(model)\n",
    "    visualizer.score(X_test, y_test)\n",
    "    \n",
    "    visualizer = ROCAUC(model)\n",
    "    visualizer.score(X_test, y_test)\n",
    "    visualizer.show()\n",
    "    \n",
    "    return roc_auc, accuracy, precision_0, recall_0, f1_0, precision_1, recall_1, f1_1"
   ]
  },
  {
   "cell_type": "code",
   "execution_count": null,
   "metadata": {},
   "outputs": [],
   "source": [
    "X_train = X_train_over_under.copy()\n",
    "y_train = y_train_over_under['TARGET'].copy()\n",
    "X_test = X_test.copy()\n",
    "y_test = y_test['TARGET'].copy()"
   ]
  },
  {
   "cell_type": "code",
   "execution_count": null,
   "metadata": {},
   "outputs": [],
   "source": [
    "X_test.isna().sum().sort_values(ascending=False)"
   ]
  },
  {
   "cell_type": "code",
   "execution_count": null,
   "metadata": {},
   "outputs": [],
   "source": [
    "from sklearn.linear_model import LogisticRegression\n",
    "LR_model = LogisticRegression()\n",
    "LR_model = LR_model.fit(X_train, y_train)\n",
    "LR_result = predictedEvaluation(LR_model, X_test, y_test.values.reshape(-1,1))"
   ]
  },
  {
   "cell_type": "code",
   "execution_count": null,
   "metadata": {},
   "outputs": [],
   "source": [
    "from sklearn.ensemble import RandomForestClassifier\n",
    "RF_model = RandomForestClassifier()\n",
    "RF_model = RF_model.fit(X_train, y_train)\n",
    "RF_result = predictedEvaluation(RF_model, X_test, y_test.values.reshape(-1,1))"
   ]
  },
  {
   "cell_type": "code",
   "execution_count": null,
   "metadata": {},
   "outputs": [],
   "source": [
    "from lightgbm import LGBMClassifier\n",
    "LGBM_model = LGBMClassifier()\n",
    "LGBM_model = RF_model.fit(X_train, y_train)\n",
    "LGBM_result = predictedEvaluation(LGBM_model, X_test, y_test.values.reshape(-1,1))"
   ]
  },
  {
   "cell_type": "code",
   "execution_count": null,
   "metadata": {},
   "outputs": [],
   "source": [
    "records = [\n",
    "    LR_result,\n",
    "    RF_result,\n",
    "    LGBM_result,\n",
    "]\n",
    "indices = [\n",
    "    'Logistic Regression',\n",
    "    'Random Forest Classifier',\n",
    "    'LightGBM Classifier'\n",
    "]\n",
    "metricColumns = ['ROC_AUC', 'Accuracy', 'Precision (label 0)', 'Recall (label 0)', 'F1 (label 0)', 'Precision (label 1)', 'Recall (label 1)', 'F1 (label 1)']\n",
    "summary = pd.DataFrame(records, index=indices, columns=metricColumns)\n",
    "summary"
   ]
  },
  {
   "cell_type": "markdown",
   "metadata": {},
   "source": [
    "## XGboost"
   ]
  },
  {
   "cell_type": "markdown",
   "metadata": {},
   "source": [
    "# 6. Fine-tune your models and combine them into a great solution"
   ]
  },
  {
   "cell_type": "code",
   "execution_count": null,
   "metadata": {},
   "outputs": [],
   "source": [
    "def gridSearch(model, params, X, y):\n",
    "    # define grid search\n",
    "    cv = RepeatedStratifiedKFold(n_splits=5, n_repeats=3, random_state=1)\n",
    "    grid_search = GridSearchCV(estimator=model, param_grid=params, n_jobs=-1, cv=cv, scoring='roc_auc', error_score='raise')\n",
    "    grid_result = grid_search.fit(X, y)\n",
    "\n",
    "    # summarize results\n",
    "    print(\"Best: %f using %s\" % (grid_result.best_score_, grid_result.best_params_))\n",
    "    means = grid_result.cv_results_['mean_test_score']\n",
    "    stds = grid_result.cv_results_['std_test_score']\n",
    "    params = grid_result.cv_results_['params']\n",
    "    \n",
    "    return grid_result"
   ]
  },
  {
   "cell_type": "markdown",
   "metadata": {},
   "source": [
    "# 7. Present your solution"
   ]
  },
  {
   "cell_type": "code",
   "execution_count": null,
   "metadata": {},
   "outputs": [],
   "source": []
  }
 ],
 "metadata": {
  "kernelspec": {
   "display_name": "Python 3",
   "language": "python",
   "name": "python3"
  },
  "language_info": {
   "codemirror_mode": {
    "name": "ipython",
    "version": 3
   },
   "file_extension": ".py",
   "mimetype": "text/x-python",
   "name": "python",
   "nbconvert_exporter": "python",
   "pygments_lexer": "ipython3",
   "version": "3.6.5"
  }
 },
 "nbformat": 4,
 "nbformat_minor": 4
}
